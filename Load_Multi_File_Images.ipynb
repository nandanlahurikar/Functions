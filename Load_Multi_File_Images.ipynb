{
 "cells": [
  {
   "cell_type": "markdown",
   "metadata": {},
   "source": [
    "This function helps to load images stores in multiple folders."
   ]
  },
  {
   "cell_type": "code",
   "execution_count": null,
   "metadata": {},
   "outputs": [],
   "source": [
    "\n",
    "def load_multi_file_images(ima):\n",
    "    import os\n",
    "    import cv2\n",
    "    rootdir = os.getcwd()\n",
    "    images = []\n",
    "    for subdir, dirs, files in os.walk(ima):\n",
    "        for file in files:\n",
    "            #print os.path.join(subdir, file)\n",
    "            filepath = subdir + os.sep + file\n",
    "            img = cv2.imread(filepath)\n",
    "            if img is not None:\n",
    "                images.append(img)"
   ]
  }
 ],
 "metadata": {
  "kernelspec": {
   "display_name": "Python 3",
   "language": "python",
   "name": "python3"
  },
  "language_info": {
   "codemirror_mode": {
    "name": "ipython",
    "version": 3
   },
   "file_extension": ".py",
   "mimetype": "text/x-python",
   "name": "python",
   "nbconvert_exporter": "python",
   "pygments_lexer": "ipython3",
   "version": "3.6.7"
  }
 },
 "nbformat": 4,
 "nbformat_minor": 2
}
